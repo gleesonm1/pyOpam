{
 "cells": [
  {
   "cell_type": "code",
   "execution_count": 1,
   "metadata": {},
   "outputs": [],
   "source": [
    "import numpy as np\n",
    "import pandas as pd\n",
    "import matplotlib.pyplot as plt\n",
    "import pyOpam"
   ]
  },
  {
   "cell_type": "code",
   "execution_count": 2,
   "metadata": {},
   "outputs": [],
   "source": [
    "Data = pd.read_excel(\"Bardabunga2022_geology.xlsx\")"
   ]
  },
  {
   "cell_type": "code",
   "execution_count": 4,
   "metadata": {},
   "outputs": [
    {
     "data": {
      "text/plain": [
       "Index(['Unnamed: 0', 'Analysis ID', 'Age', 'Mount', 'Locality', 'Nature2',\n",
       "       'SiO2_raw', 'TiO2_raw', 'Al2O3_raw', 'FeOt_raw', 'MnO_raw', 'MgO_raw',\n",
       "       'CaO_raw', 'Na2O_raw', 'K2O_raw', 'P2O5_raw', 'SO3_raw', 'Cl_raw',\n",
       "       'Total_raw', 'Mg#_raw', 'SiO2_PEC', 'TiO2_PEC', 'Al2O3_PEC', 'FeOt_PEC',\n",
       "       'MnO_PEC', 'MgO_PEC', 'CaO_PEC', 'Na2O_PEC', 'K2O_PEC', 'P2O5_PEC',\n",
       "       'S_PEC', 'Cl_PEC', 'Total_PEC', 'Mg#_PEC', 'PEC %', 'Host mineral',\n",
       "       'SiO2_host', 'TiO2_host', 'Al2O3_host', 'Cr2O3_host', 'FeO_host',\n",
       "       'MnO_host', 'NiO_host', 'MgO_host', 'CaO_host', 'Na2O_host', 'K2O_host',\n",
       "       'BaO_host', 'Total_host', 'Fo/An (mol%)', 'TiO2 (wt%)', 'Ni', 'Sr', 'Y',\n",
       "       'Zr', 'Nb', 'La', 'Ce', 'Nd', 'Sm', 'Eu ', 'Gd', 'Dy ', 'Er ', 'Yb',\n",
       "       'δ18Oav 5', 'δ18OavSiO2-corrected6', '1σ (± ‰)7', 'n of spots',\n",
       "       'P (kbar)', 'Pf', 'DM', 'EM', 'Crust', 'TiO2', 'Ni.1', 'Sr.1', 'Y.1',\n",
       "       'Zr.1', 'Nb.1', 'La.1', 'Ce.1', 'Nd.1', 'Sm.1', 'Eu .1', 'Gd.1',\n",
       "       'Dy .1', 'Er .1', 'Yb.1'],\n",
       "      dtype='object')"
      ]
     },
     "execution_count": 4,
     "metadata": {},
     "output_type": "execute_result"
    }
   ],
   "source": [
    "Data.keys()"
   ]
  },
  {
   "cell_type": "code",
   "execution_count": null,
   "metadata": {},
   "outputs": [],
   "source": []
  }
 ],
 "metadata": {
  "kernelspec": {
   "display_name": "base",
   "language": "python",
   "name": "python3"
  },
  "language_info": {
   "codemirror_mode": {
    "name": "ipython",
    "version": 3
   },
   "file_extension": ".py",
   "mimetype": "text/x-python",
   "name": "python",
   "nbconvert_exporter": "python",
   "pygments_lexer": "ipython3",
   "version": "3.9.13"
  },
  "orig_nbformat": 4
 },
 "nbformat": 4,
 "nbformat_minor": 2
}
